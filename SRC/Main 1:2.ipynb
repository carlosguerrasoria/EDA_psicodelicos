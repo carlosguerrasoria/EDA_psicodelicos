{
 "cells": [
  {
   "cell_type": "markdown",
   "metadata": {},
   "source": [
    "# Contraste de hipótesis\n",
    "\n",
    "<b>Hipótesis 1:</b> Hay determinados psicodélicos que se asocian a motivaciones de consumo (sustancias_consumidas --> motivacion_princ)\n",
    "\n",
    "<b>Hipótesis 2:</b> Hay determinados psicodélicos que se asocian a lugares de consumo (sustancias_consumidas --> donde_consume)\n",
    "\n",
    "<b>Hipótesis 3:</b> Hay determinados psicodélicos que se asocian a acompañantes (sustancias_consumidas --> con_quien_consume)\n"
   ]
  },
  {
   "cell_type": "markdown",
   "metadata": {},
   "source": [
    "### Estudio sobre consumo de sustancias psicodélicas\n",
    "\n",
    "- Muestra: 1021 personas\n",
    "- Consumidores de psicodélicos: Sí (73%), No (27%)\n",
    "- Residencia: Europa (63%), América del sur (30%), América del norte (5%), África (2%), Asia (1,9%), Oceanía (0,09%)\n",
    "- Rango edad: 18-79\n",
    "- Rango ingresos: 5000$-100000$\n",
    "- Sexo: 52% hombres, 48%- mujeres\n",
    "- Entorno: urbano (79%) y residencial (21%)\n",
    "- Nivel educativo: Grado universitario(68%), Educ. Primaria (30%), Postgrado (0.6%)"
   ]
  },
  {
   "cell_type": "code",
   "execution_count": 1,
   "metadata": {},
   "outputs": [],
   "source": [
    "import numpy as np\n",
    "import matplotlib.pyplot as plt\n",
    "import pandas as pd\n",
    "import seaborn as sns\n",
    "from scipy.stats import chi2_contingency\n",
    "\n",
    "pd.set_option('display.max_columns', None)"
   ]
  },
  {
   "cell_type": "code",
   "execution_count": 2,
   "metadata": {},
   "outputs": [],
   "source": [
    "from utils.lista_funciones import tricategorical_analysis, \\\n",
    "    plot_categorical_numerical_relationship, \\\n",
    "    plot_combined_graphs, \\\n",
    "    pinta_distribucion_categoricas, \\\n",
    "    plot_grouped_boxplots, \\\n",
    "    plot_categorical_relationship_fin, \\\n",
    "    plot_grouped_histograms, \\\n",
    "    grafico_dispersion_con_correlacion, \\\n",
    "    bubble_plot, \\\n",
    "    cardinalidad"
   ]
  },
  {
   "cell_type": "code",
   "execution_count": 3,
   "metadata": {},
   "outputs": [],
   "source": [
    "df = pd.read_excel(\"./data/1000sujetos.xlsx\")"
   ]
  },
  {
   "cell_type": "code",
   "execution_count": 4,
   "metadata": {},
   "outputs": [
    {
     "name": "stdout",
     "output_type": "stream",
     "text": [
      "<class 'pandas.core.frame.DataFrame'>\n",
      "RangeIndex: 1022 entries, 0 to 1021\n",
      "Columns: 193 entries, edad to sa_psico5\n",
      "dtypes: int64(155), object(38)\n",
      "memory usage: 1.5+ MB\n"
     ]
    }
   ],
   "source": [
    "df.info()"
   ]
  },
  {
   "cell_type": "markdown",
   "metadata": {},
   "source": [
    "## Parte 1/3: Creamos columnas de trabajo y eliminamos el resto"
   ]
  },
  {
   "cell_type": "code",
   "execution_count": 5,
   "metadata": {},
   "outputs": [
    {
     "data": {
      "text/html": [
       "<div>\n",
       "<style scoped>\n",
       "    .dataframe tbody tr th:only-of-type {\n",
       "        vertical-align: middle;\n",
       "    }\n",
       "\n",
       "    .dataframe tbody tr th {\n",
       "        vertical-align: top;\n",
       "    }\n",
       "\n",
       "    .dataframe thead th {\n",
       "        text-align: right;\n",
       "    }\n",
       "</style>\n",
       "<table border=\"1\" class=\"dataframe\">\n",
       "  <thead>\n",
       "    <tr style=\"text-align: right;\">\n",
       "      <th></th>\n",
       "      <th>edad</th>\n",
       "      <th>sexo</th>\n",
       "      <th>estatus</th>\n",
       "      <th>residencia</th>\n",
       "      <th>entorno_res</th>\n",
       "      <th>empleo</th>\n",
       "      <th>nivel_edu</th>\n",
       "      <th>ingresos</th>\n",
       "      <th>ha_consumido</th>\n",
       "      <th>sustancias_consumidas</th>\n",
       "      <th>consumo_estimado</th>\n",
       "      <th>ultimo_consumo</th>\n",
       "      <th>t_1-ultimo_cons</th>\n",
       "      <th>frec_anual</th>\n",
       "      <th>frec_anual_efect.intenso</th>\n",
       "      <th>ha_microdosificado</th>\n",
       "      <th>sust_micro</th>\n",
       "      <th>sust_combi</th>\n",
       "      <th>ultima_sust_combinadas</th>\n",
       "      <th>efect_advers_bajo.efectos</th>\n",
       "      <th>efect_advers_despues</th>\n",
       "      <th>dieta_para_consumo</th>\n",
       "      <th>con_quien_consume</th>\n",
       "      <th>motivacion</th>\n",
       "      <th>donde_consume</th>\n",
       "      <th>experien_significat</th>\n",
       "      <th>veces_exper_signific</th>\n",
       "      <th>diagnost_alguna_vez</th>\n",
       "      <th>diagnost_actual</th>\n",
       "      <th>trastornos_diagnost</th>\n",
       "      <th>momento_diagnost</th>\n",
       "      <th>medicado_pasado</th>\n",
       "      <th>medicado_presente</th>\n",
       "      <th>consume_para_tratar</th>\n",
       "      <th>intencion_consumo_tratar</th>\n",
       "      <th>abierto_terap_psicodel</th>\n",
       "      <th>dieta_general</th>\n",
       "      <th>frec_deporte</th>\n",
       "      <th>frec_meditacion</th>\n",
       "      <th>bpns_AS1</th>\n",
       "      <th>bpns_AF1</th>\n",
       "      <th>bpns_RS1</th>\n",
       "      <th>bpns_RF1</th>\n",
       "      <th>bpns_CS1</th>\n",
       "      <th>bpns_CF1</th>\n",
       "      <th>bpns_AS2</th>\n",
       "      <th>bpns_AF2</th>\n",
       "      <th>bpns_RS2</th>\n",
       "      <th>bpns_RF2</th>\n",
       "      <th>bpns_CS2</th>\n",
       "      <th>bpns_CF2</th>\n",
       "      <th>bpns_AS3</th>\n",
       "      <th>bpns_AF3</th>\n",
       "      <th>bpns_RS3</th>\n",
       "      <th>bpns_RF3</th>\n",
       "      <th>bpns_CS3</th>\n",
       "      <th>bpns_CF3</th>\n",
       "      <th>bpns_AS4</th>\n",
       "      <th>bpns_AF4</th>\n",
       "      <th>bpns_RS4</th>\n",
       "      <th>bpns_RF4</th>\n",
       "      <th>bpns_CS4</th>\n",
       "      <th>bpns_CF4</th>\n",
       "      <th>panas_EN1</th>\n",
       "      <th>panas_EN2</th>\n",
       "      <th>panas_EP1</th>\n",
       "      <th>panas_EN3</th>\n",
       "      <th>panas_EP2</th>\n",
       "      <th>panas_EN4</th>\n",
       "      <th>panas_EP3</th>\n",
       "      <th>panas_EP4</th>\n",
       "      <th>panas_EN5</th>\n",
       "      <th>panas_EP5</th>\n",
       "      <th>phlms_C1</th>\n",
       "      <th>phlms_A1</th>\n",
       "      <th>phlms_C2</th>\n",
       "      <th>phlms_A2</th>\n",
       "      <th>phlms_C3</th>\n",
       "      <th>phlms_A3</th>\n",
       "      <th>phlms_C4</th>\n",
       "      <th>phlms_A4</th>\n",
       "      <th>phlms_C5</th>\n",
       "      <th>phlms_A5</th>\n",
       "      <th>phlms_C6</th>\n",
       "      <th>phlms_A6</th>\n",
       "      <th>phlms_C7</th>\n",
       "      <th>phlms_A7</th>\n",
       "      <th>phlms_C8</th>\n",
       "      <th>phlms_A8</th>\n",
       "      <th>phlms_C9</th>\n",
       "      <th>phlms_A9</th>\n",
       "      <th>phlms_C10</th>\n",
       "      <th>phlms_A10</th>\n",
       "      <th>swls1</th>\n",
       "      <th>swls2</th>\n",
       "      <th>swls3</th>\n",
       "      <th>swls4</th>\n",
       "      <th>swls5</th>\n",
       "      <th>ipipbf_ex1</th>\n",
       "      <th>ipipbf_a1</th>\n",
       "      <th>ipipbf_es1</th>\n",
       "      <th>ipipbf_n1</th>\n",
       "      <th>ipipbf_i1</th>\n",
       "      <th>ipipbf_ex2</th>\n",
       "      <th>ipipbf_a2</th>\n",
       "      <th>ipipbf_es2</th>\n",
       "      <th>ipipbf_n2</th>\n",
       "      <th>ipipbf_i2</th>\n",
       "      <th>ipipbf_ex3</th>\n",
       "      <th>ipipbf_a3</th>\n",
       "      <th>ipipbf_es3</th>\n",
       "      <th>ipipbf_n3</th>\n",
       "      <th>ipipbf_i3</th>\n",
       "      <th>ipipbf_ex4</th>\n",
       "      <th>ipipbf_a4</th>\n",
       "      <th>ipipbf_es4</th>\n",
       "      <th>ipipbf_n4</th>\n",
       "      <th>ipipbf_i4</th>\n",
       "      <th>ipipbf_ex5</th>\n",
       "      <th>ipipbf_a5</th>\n",
       "      <th>ipipbf_es5</th>\n",
       "      <th>ipipbf_n5</th>\n",
       "      <th>ipipbf_i5</th>\n",
       "      <th>ipipbf_ex6</th>\n",
       "      <th>ipipbf_a6</th>\n",
       "      <th>ipipbf_es6</th>\n",
       "      <th>ipipbf_n6</th>\n",
       "      <th>ipipbf_i6</th>\n",
       "      <th>ipipbf_ex7</th>\n",
       "      <th>ipipbf_a7</th>\n",
       "      <th>ipipbf_es7</th>\n",
       "      <th>ipipbf_n7</th>\n",
       "      <th>ipipbf_i7</th>\n",
       "      <th>ipipbf_ex8</th>\n",
       "      <th>ipipbf_a8</th>\n",
       "      <th>ipipbf_es8</th>\n",
       "      <th>ipipbf_n8</th>\n",
       "      <th>ipipbf_i8</th>\n",
       "      <th>ipipbf_ex9</th>\n",
       "      <th>ipipbf_a9</th>\n",
       "      <th>ipipbf_es9</th>\n",
       "      <th>ipipbf_n9</th>\n",
       "      <th>ipipbf_i9</th>\n",
       "      <th>ipipbf_ex10</th>\n",
       "      <th>ipipbf_a10</th>\n",
       "      <th>ipipbf_es10</th>\n",
       "      <th>ipipbf_n10</th>\n",
       "      <th>ipipbf_i10</th>\n",
       "      <th>sa_psico1</th>\n",
       "      <th>sa_paran1</th>\n",
       "      <th>sa_fob1</th>\n",
       "      <th>sa_psico2</th>\n",
       "      <th>sa_paran2</th>\n",
       "      <th>sa_ans1</th>\n",
       "      <th>sa_host1</th>\n",
       "      <th>sa_fob2</th>\n",
       "      <th>sa_dep1</th>\n",
       "      <th>sa_dep2</th>\n",
       "      <th>sa_dep3</th>\n",
       "      <th>sa_ans2</th>\n",
       "      <th>sa_psico3</th>\n",
       "      <th>sa_sensib1</th>\n",
       "      <th>sa_sensib2</th>\n",
       "      <th>sa_obs1</th>\n",
       "      <th>sa_sensib3</th>\n",
       "      <th>sa_somat1</th>\n",
       "      <th>sa_paran3</th>\n",
       "      <th>sa_obs2</th>\n",
       "      <th>sa_obs3</th>\n",
       "      <th>sa_fob3</th>\n",
       "      <th>sa_somat2</th>\n",
       "      <th>sa_fob4</th>\n",
       "      <th>sa_obs4</th>\n",
       "      <th>sa_somat3</th>\n",
       "      <th>sa_dep4</th>\n",
       "      <th>sa_obs5</th>\n",
       "      <th>sa_somat4</th>\n",
       "      <th>sa_ans3</th>\n",
       "      <th>sa_somat5</th>\n",
       "      <th>sa_sensib4</th>\n",
       "      <th>sa_psico4</th>\n",
       "      <th>sa_host2</th>\n",
       "      <th>sa_host3</th>\n",
       "      <th>sa_sensib5</th>\n",
       "      <th>sa_fob5</th>\n",
       "      <th>sa_ans4</th>\n",
       "      <th>sa_host4</th>\n",
       "      <th>sa_paran4</th>\n",
       "      <th>sa_ans5</th>\n",
       "      <th>sa_dep5</th>\n",
       "      <th>sa_host5</th>\n",
       "      <th>sa_paran5</th>\n",
       "      <th>sa_psico5</th>\n",
       "    </tr>\n",
       "  </thead>\n",
       "  <tbody>\n",
       "    <tr>\n",
       "      <th>0</th>\n",
       "      <td>25</td>\n",
       "      <td>Hombre</td>\n",
       "      <td>Soltero/a</td>\n",
       "      <td>Europa</td>\n",
       "      <td>Urbano</td>\n",
       "      <td>Estudiante</td>\n",
       "      <td>Educación universitaria</td>\n",
       "      <td>10,000-20,000</td>\n",
       "      <td>Sí</td>\n",
       "      <td>LSD (ácido, tripi), Psilocibina (setas o trufa...</td>\n",
       "      <td>30</td>\n",
       "      <td>Hace menos de 1 mes</td>\n",
       "      <td>Más de 5 años</td>\n",
       "      <td>Una vez al mes o menos</td>\n",
       "      <td>Varias veces al año</td>\n",
       "      <td>No</td>\n",
       "      <td>Ninguna</td>\n",
       "      <td>Cafeína, Cannabis, Alcohol</td>\n",
       "      <td>Cafeína, Cannabis, Alcohol</td>\n",
       "      <td>Ansiedad, Mareo, Náuseas, Vómito, Dolor de est...</td>\n",
       "      <td>Ninguno</td>\n",
       "      <td>Ninguna</td>\n",
       "      <td>Amigos, Pareja</td>\n",
       "      <td>Para divertirme, Para conocerme mejor, Con fin...</td>\n",
       "      <td>En casa, En la naturaleza, En la calle, En fie...</td>\n",
       "      <td>Extremadamente</td>\n",
       "      <td>Muy pocas veces</td>\n",
       "      <td>No</td>\n",
       "      <td>No</td>\n",
       "      <td>Ninguno</td>\n",
       "      <td>Nunca me han diagnosticado</td>\n",
       "      <td>No</td>\n",
       "      <td>No</td>\n",
       "      <td>No</td>\n",
       "      <td>Sí</td>\n",
       "      <td>Sí</td>\n",
       "      <td>Omnívora</td>\n",
       "      <td>Más</td>\n",
       "      <td>Esporádicamente</td>\n",
       "      <td>5</td>\n",
       "      <td>3</td>\n",
       "      <td>5</td>\n",
       "      <td>1</td>\n",
       "      <td>4</td>\n",
       "      <td>2</td>\n",
       "      <td>4</td>\n",
       "      <td>2</td>\n",
       "      <td>5</td>\n",
       "      <td>2</td>\n",
       "      <td>4</td>\n",
       "      <td>2</td>\n",
       "      <td>4</td>\n",
       "      <td>1</td>\n",
       "      <td>5</td>\n",
       "      <td>1</td>\n",
       "      <td>4</td>\n",
       "      <td>2</td>\n",
       "      <td>5</td>\n",
       "      <td>2</td>\n",
       "      <td>5</td>\n",
       "      <td>2</td>\n",
       "      <td>4</td>\n",
       "      <td>2</td>\n",
       "      <td>2</td>\n",
       "      <td>2</td>\n",
       "      <td>3</td>\n",
       "      <td>3</td>\n",
       "      <td>4</td>\n",
       "      <td>1</td>\n",
       "      <td>4</td>\n",
       "      <td>4</td>\n",
       "      <td>1</td>\n",
       "      <td>5</td>\n",
       "      <td>3</td>\n",
       "      <td>2</td>\n",
       "      <td>3</td>\n",
       "      <td>1</td>\n",
       "      <td>1</td>\n",
       "      <td>2</td>\n",
       "      <td>1</td>\n",
       "      <td>4</td>\n",
       "      <td>3</td>\n",
       "      <td>2</td>\n",
       "      <td>4</td>\n",
       "      <td>2</td>\n",
       "      <td>3</td>\n",
       "      <td>4</td>\n",
       "      <td>2</td>\n",
       "      <td>2</td>\n",
       "      <td>2</td>\n",
       "      <td>4</td>\n",
       "      <td>3</td>\n",
       "      <td>2</td>\n",
       "      <td>5</td>\n",
       "      <td>7</td>\n",
       "      <td>5</td>\n",
       "      <td>4</td>\n",
       "      <td>7</td>\n",
       "      <td>3</td>\n",
       "      <td>2</td>\n",
       "      <td>2</td>\n",
       "      <td>4</td>\n",
       "      <td>2</td>\n",
       "      <td>2</td>\n",
       "      <td>5</td>\n",
       "      <td>2</td>\n",
       "      <td>1</td>\n",
       "      <td>3</td>\n",
       "      <td>3</td>\n",
       "      <td>2</td>\n",
       "      <td>2</td>\n",
       "      <td>3</td>\n",
       "      <td>5</td>\n",
       "      <td>4</td>\n",
       "      <td>4</td>\n",
       "      <td>4</td>\n",
       "      <td>2</td>\n",
       "      <td>3</td>\n",
       "      <td>3</td>\n",
       "      <td>4</td>\n",
       "      <td>4</td>\n",
       "      <td>1</td>\n",
       "      <td>4</td>\n",
       "      <td>4</td>\n",
       "      <td>2</td>\n",
       "      <td>5</td>\n",
       "      <td>2</td>\n",
       "      <td>4</td>\n",
       "      <td>5</td>\n",
       "      <td>4</td>\n",
       "      <td>4</td>\n",
       "      <td>2</td>\n",
       "      <td>2</td>\n",
       "      <td>3</td>\n",
       "      <td>2</td>\n",
       "      <td>4</td>\n",
       "      <td>2</td>\n",
       "      <td>4</td>\n",
       "      <td>4</td>\n",
       "      <td>4</td>\n",
       "      <td>2</td>\n",
       "      <td>2</td>\n",
       "      <td>4</td>\n",
       "      <td>3</td>\n",
       "      <td>3</td>\n",
       "      <td>1</td>\n",
       "      <td>1</td>\n",
       "      <td>3</td>\n",
       "      <td>1</td>\n",
       "      <td>1</td>\n",
       "      <td>1</td>\n",
       "      <td>1</td>\n",
       "      <td>1</td>\n",
       "      <td>2</td>\n",
       "      <td>1</td>\n",
       "      <td>1</td>\n",
       "      <td>2</td>\n",
       "      <td>3</td>\n",
       "      <td>2</td>\n",
       "      <td>2</td>\n",
       "      <td>1</td>\n",
       "      <td>1</td>\n",
       "      <td>2</td>\n",
       "      <td>2</td>\n",
       "      <td>2</td>\n",
       "      <td>1</td>\n",
       "      <td>1</td>\n",
       "      <td>1</td>\n",
       "      <td>2</td>\n",
       "      <td>1</td>\n",
       "      <td>1</td>\n",
       "      <td>1</td>\n",
       "      <td>1</td>\n",
       "      <td>1</td>\n",
       "      <td>3</td>\n",
       "      <td>2</td>\n",
       "      <td>1</td>\n",
       "      <td>2</td>\n",
       "      <td>1</td>\n",
       "      <td>1</td>\n",
       "      <td>1</td>\n",
       "      <td>3</td>\n",
       "      <td>1</td>\n",
       "      <td>1</td>\n",
       "      <td>1</td>\n",
       "      <td>1</td>\n",
       "      <td>2</td>\n",
       "      <td>2</td>\n",
       "      <td>1</td>\n",
       "      <td>1</td>\n",
       "      <td>2</td>\n",
       "      <td>1</td>\n",
       "      <td>1</td>\n",
       "    </tr>\n",
       "    <tr>\n",
       "      <th>1</th>\n",
       "      <td>30</td>\n",
       "      <td>Hombre</td>\n",
       "      <td>Soltero/a</td>\n",
       "      <td>Europa</td>\n",
       "      <td>Urbano</td>\n",
       "      <td>Jornada completa</td>\n",
       "      <td>Educación universitaria</td>\n",
       "      <td>10,000-20,000</td>\n",
       "      <td>Sí</td>\n",
       "      <td>Psilocibina (setas o trufas mágicas), MDMA (éx...</td>\n",
       "      <td>5</td>\n",
       "      <td>Hace más de 1 año</td>\n",
       "      <td>Más de 5 años</td>\n",
       "      <td>Menos de una vez al año</td>\n",
       "      <td>Menos de una vez al año</td>\n",
       "      <td>No</td>\n",
       "      <td>Ninguna</td>\n",
       "      <td>Cannabis, Alcohol</td>\n",
       "      <td>Cannabis, Alcohol</td>\n",
       "      <td>Ansiedad</td>\n",
       "      <td>Depresión, Ansiedad, Vómito</td>\n",
       "      <td>Ninguna</td>\n",
       "      <td>Amigos</td>\n",
       "      <td>Para divertirme, Para escapar de mis problemas</td>\n",
       "      <td>En casa, En la naturaleza</td>\n",
       "      <td>Un poco</td>\n",
       "      <td>Ninguna vez</td>\n",
       "      <td>No</td>\n",
       "      <td>No</td>\n",
       "      <td>Ninguno</td>\n",
       "      <td>Nunca me han diagnosticado</td>\n",
       "      <td>No</td>\n",
       "      <td>No</td>\n",
       "      <td>No</td>\n",
       "      <td>No</td>\n",
       "      <td>Tal vez</td>\n",
       "      <td>Omnívora</td>\n",
       "      <td>Esporádicamente</td>\n",
       "      <td>Nunca</td>\n",
       "      <td>3</td>\n",
       "      <td>2</td>\n",
       "      <td>3</td>\n",
       "      <td>4</td>\n",
       "      <td>4</td>\n",
       "      <td>4</td>\n",
       "      <td>2</td>\n",
       "      <td>4</td>\n",
       "      <td>4</td>\n",
       "      <td>2</td>\n",
       "      <td>4</td>\n",
       "      <td>4</td>\n",
       "      <td>3</td>\n",
       "      <td>2</td>\n",
       "      <td>2</td>\n",
       "      <td>1</td>\n",
       "      <td>2</td>\n",
       "      <td>3</td>\n",
       "      <td>4</td>\n",
       "      <td>4</td>\n",
       "      <td>5</td>\n",
       "      <td>3</td>\n",
       "      <td>4</td>\n",
       "      <td>2</td>\n",
       "      <td>2</td>\n",
       "      <td>1</td>\n",
       "      <td>4</td>\n",
       "      <td>5</td>\n",
       "      <td>2</td>\n",
       "      <td>4</td>\n",
       "      <td>3</td>\n",
       "      <td>4</td>\n",
       "      <td>4</td>\n",
       "      <td>3</td>\n",
       "      <td>4</td>\n",
       "      <td>4</td>\n",
       "      <td>4</td>\n",
       "      <td>4</td>\n",
       "      <td>2</td>\n",
       "      <td>3</td>\n",
       "      <td>2</td>\n",
       "      <td>4</td>\n",
       "      <td>4</td>\n",
       "      <td>4</td>\n",
       "      <td>3</td>\n",
       "      <td>4</td>\n",
       "      <td>4</td>\n",
       "      <td>4</td>\n",
       "      <td>2</td>\n",
       "      <td>3</td>\n",
       "      <td>2</td>\n",
       "      <td>4</td>\n",
       "      <td>5</td>\n",
       "      <td>3</td>\n",
       "      <td>3</td>\n",
       "      <td>5</td>\n",
       "      <td>5</td>\n",
       "      <td>5</td>\n",
       "      <td>3</td>\n",
       "      <td>1</td>\n",
       "      <td>2</td>\n",
       "      <td>4</td>\n",
       "      <td>4</td>\n",
       "      <td>2</td>\n",
       "      <td>5</td>\n",
       "      <td>3</td>\n",
       "      <td>4</td>\n",
       "      <td>1</td>\n",
       "      <td>3</td>\n",
       "      <td>1</td>\n",
       "      <td>2</td>\n",
       "      <td>3</td>\n",
       "      <td>1</td>\n",
       "      <td>2</td>\n",
       "      <td>1</td>\n",
       "      <td>2</td>\n",
       "      <td>2</td>\n",
       "      <td>2</td>\n",
       "      <td>4</td>\n",
       "      <td>2</td>\n",
       "      <td>4</td>\n",
       "      <td>4</td>\n",
       "      <td>1</td>\n",
       "      <td>4</td>\n",
       "      <td>1</td>\n",
       "      <td>3</td>\n",
       "      <td>4</td>\n",
       "      <td>1</td>\n",
       "      <td>4</td>\n",
       "      <td>2</td>\n",
       "      <td>4</td>\n",
       "      <td>3</td>\n",
       "      <td>1</td>\n",
       "      <td>2</td>\n",
       "      <td>2</td>\n",
       "      <td>2</td>\n",
       "      <td>3</td>\n",
       "      <td>1</td>\n",
       "      <td>4</td>\n",
       "      <td>5</td>\n",
       "      <td>2</td>\n",
       "      <td>4</td>\n",
       "      <td>4</td>\n",
       "      <td>4</td>\n",
       "      <td>1</td>\n",
       "      <td>4</td>\n",
       "      <td>4</td>\n",
       "      <td>4</td>\n",
       "      <td>2</td>\n",
       "      <td>1</td>\n",
       "      <td>2</td>\n",
       "      <td>1</td>\n",
       "      <td>1</td>\n",
       "      <td>4</td>\n",
       "      <td>2</td>\n",
       "      <td>1</td>\n",
       "      <td>1</td>\n",
       "      <td>3</td>\n",
       "      <td>4</td>\n",
       "      <td>4</td>\n",
       "      <td>4</td>\n",
       "      <td>2</td>\n",
       "      <td>4</td>\n",
       "      <td>4</td>\n",
       "      <td>2</td>\n",
       "      <td>4</td>\n",
       "      <td>3</td>\n",
       "      <td>2</td>\n",
       "      <td>3</td>\n",
       "      <td>4</td>\n",
       "      <td>1</td>\n",
       "      <td>1</td>\n",
       "      <td>4</td>\n",
       "      <td>3</td>\n",
       "      <td>4</td>\n",
       "      <td>4</td>\n",
       "      <td>3</td>\n",
       "      <td>4</td>\n",
       "      <td>4</td>\n",
       "      <td>1</td>\n",
       "      <td>3</td>\n",
       "      <td>2</td>\n",
       "      <td>1</td>\n",
       "      <td>1</td>\n",
       "      <td>5</td>\n",
       "      <td>2</td>\n",
       "      <td>1</td>\n",
       "      <td>1</td>\n",
       "      <td>3</td>\n",
       "      <td>2</td>\n",
       "      <td>4</td>\n",
       "      <td>1</td>\n",
       "      <td>4</td>\n",
       "      <td>1</td>\n",
       "    </tr>\n",
       "    <tr>\n",
       "      <th>2</th>\n",
       "      <td>24</td>\n",
       "      <td>Hombre</td>\n",
       "      <td>Soltero/a</td>\n",
       "      <td>Europa</td>\n",
       "      <td>Urbano</td>\n",
       "      <td>Estudiante</td>\n",
       "      <td>Educación universitaria</td>\n",
       "      <td>No sabe/No contesta</td>\n",
       "      <td>Sí</td>\n",
       "      <td>LSD (ácido, tripi), Mescalina (peyote, San Ped...</td>\n",
       "      <td>20</td>\n",
       "      <td>Hace menos de 6 meses</td>\n",
       "      <td>Más de 1 año</td>\n",
       "      <td>Una vez al año</td>\n",
       "      <td>Una vez al año</td>\n",
       "      <td>Sí</td>\n",
       "      <td>LSD (ácido, tripi), Mescalina (peyote, San Ped...</td>\n",
       "      <td>Cafeína, Cannabis, Alcohol, Ansiolíticos</td>\n",
       "      <td>Ninguna, No he consumido sustancias psicodélicas</td>\n",
       "      <td>Paranoia o psicosis, Ansiedad, Pánico, Taquica...</td>\n",
       "      <td>Ansiedad</td>\n",
       "      <td>Abstinencia de otras drogas</td>\n",
       "      <td>Solo</td>\n",
       "      <td>Para divertirme, Para conocerme mejor, Con fin...</td>\n",
       "      <td>En casa, En la naturaleza</td>\n",
       "      <td>Extremadamente</td>\n",
       "      <td>Algunas veces</td>\n",
       "      <td>Sí</td>\n",
       "      <td>Sí</td>\n",
       "      <td>Depresión, Trastorno de ansiedad generalizada,...</td>\n",
       "      <td>Después</td>\n",
       "      <td>Sí</td>\n",
       "      <td>No</td>\n",
       "      <td>Sí</td>\n",
       "      <td>Tal vez</td>\n",
       "      <td>Tal vez</td>\n",
       "      <td>Omnívora</td>\n",
       "      <td>Cinco veces por semana</td>\n",
       "      <td>Cuatro veces por semana</td>\n",
       "      <td>3</td>\n",
       "      <td>3</td>\n",
       "      <td>4</td>\n",
       "      <td>3</td>\n",
       "      <td>4</td>\n",
       "      <td>4</td>\n",
       "      <td>4</td>\n",
       "      <td>4</td>\n",
       "      <td>4</td>\n",
       "      <td>3</td>\n",
       "      <td>3</td>\n",
       "      <td>3</td>\n",
       "      <td>3</td>\n",
       "      <td>4</td>\n",
       "      <td>3</td>\n",
       "      <td>4</td>\n",
       "      <td>3</td>\n",
       "      <td>5</td>\n",
       "      <td>1</td>\n",
       "      <td>3</td>\n",
       "      <td>2</td>\n",
       "      <td>4</td>\n",
       "      <td>3</td>\n",
       "      <td>4</td>\n",
       "      <td>4</td>\n",
       "      <td>2</td>\n",
       "      <td>4</td>\n",
       "      <td>4</td>\n",
       "      <td>2</td>\n",
       "      <td>4</td>\n",
       "      <td>2</td>\n",
       "      <td>2</td>\n",
       "      <td>3</td>\n",
       "      <td>2</td>\n",
       "      <td>4</td>\n",
       "      <td>4</td>\n",
       "      <td>3</td>\n",
       "      <td>3</td>\n",
       "      <td>4</td>\n",
       "      <td>4</td>\n",
       "      <td>3</td>\n",
       "      <td>5</td>\n",
       "      <td>3</td>\n",
       "      <td>4</td>\n",
       "      <td>2</td>\n",
       "      <td>4</td>\n",
       "      <td>2</td>\n",
       "      <td>2</td>\n",
       "      <td>3</td>\n",
       "      <td>3</td>\n",
       "      <td>2</td>\n",
       "      <td>3</td>\n",
       "      <td>3</td>\n",
       "      <td>3</td>\n",
       "      <td>2</td>\n",
       "      <td>2</td>\n",
       "      <td>1</td>\n",
       "      <td>2</td>\n",
       "      <td>1</td>\n",
       "      <td>1</td>\n",
       "      <td>3</td>\n",
       "      <td>4</td>\n",
       "      <td>2</td>\n",
       "      <td>2</td>\n",
       "      <td>4</td>\n",
       "      <td>4</td>\n",
       "      <td>4</td>\n",
       "      <td>3</td>\n",
       "      <td>5</td>\n",
       "      <td>1</td>\n",
       "      <td>3</td>\n",
       "      <td>4</td>\n",
       "      <td>4</td>\n",
       "      <td>2</td>\n",
       "      <td>1</td>\n",
       "      <td>5</td>\n",
       "      <td>2</td>\n",
       "      <td>4</td>\n",
       "      <td>4</td>\n",
       "      <td>3</td>\n",
       "      <td>3</td>\n",
       "      <td>2</td>\n",
       "      <td>4</td>\n",
       "      <td>4</td>\n",
       "      <td>2</td>\n",
       "      <td>3</td>\n",
       "      <td>2</td>\n",
       "      <td>4</td>\n",
       "      <td>3</td>\n",
       "      <td>2</td>\n",
       "      <td>2</td>\n",
       "      <td>3</td>\n",
       "      <td>4</td>\n",
       "      <td>2</td>\n",
       "      <td>2</td>\n",
       "      <td>2</td>\n",
       "      <td>4</td>\n",
       "      <td>4</td>\n",
       "      <td>4</td>\n",
       "      <td>4</td>\n",
       "      <td>2</td>\n",
       "      <td>4</td>\n",
       "      <td>5</td>\n",
       "      <td>4</td>\n",
       "      <td>2</td>\n",
       "      <td>4</td>\n",
       "      <td>4</td>\n",
       "      <td>4</td>\n",
       "      <td>5</td>\n",
       "      <td>1</td>\n",
       "      <td>4</td>\n",
       "      <td>3</td>\n",
       "      <td>1</td>\n",
       "      <td>3</td>\n",
       "      <td>3</td>\n",
       "      <td>2</td>\n",
       "      <td>1</td>\n",
       "      <td>4</td>\n",
       "      <td>5</td>\n",
       "      <td>4</td>\n",
       "      <td>4</td>\n",
       "      <td>2</td>\n",
       "      <td>3</td>\n",
       "      <td>4</td>\n",
       "      <td>3</td>\n",
       "      <td>4</td>\n",
       "      <td>2</td>\n",
       "      <td>1</td>\n",
       "      <td>2</td>\n",
       "      <td>2</td>\n",
       "      <td>2</td>\n",
       "      <td>1</td>\n",
       "      <td>4</td>\n",
       "      <td>3</td>\n",
       "      <td>1</td>\n",
       "      <td>4</td>\n",
       "      <td>4</td>\n",
       "      <td>3</td>\n",
       "      <td>4</td>\n",
       "      <td>3</td>\n",
       "      <td>4</td>\n",
       "      <td>1</td>\n",
       "      <td>1</td>\n",
       "      <td>4</td>\n",
       "      <td>4</td>\n",
       "      <td>2</td>\n",
       "      <td>2</td>\n",
       "      <td>3</td>\n",
       "      <td>2</td>\n",
       "      <td>4</td>\n",
       "      <td>4</td>\n",
       "      <td>2</td>\n",
       "      <td>3</td>\n",
       "      <td>3</td>\n",
       "    </tr>\n",
       "  </tbody>\n",
       "</table>\n",
       "</div>"
      ],
      "text/plain": [
       "   edad    sexo    estatus residencia entorno_res            empleo  \\\n",
       "0    25  Hombre  Soltero/a     Europa      Urbano        Estudiante   \n",
       "1    30  Hombre  Soltero/a     Europa      Urbano  Jornada completa   \n",
       "2    24  Hombre  Soltero/a     Europa      Urbano        Estudiante   \n",
       "\n",
       "                 nivel_edu             ingresos ha_consumido  \\\n",
       "0  Educación universitaria        10,000-20,000           Sí   \n",
       "1  Educación universitaria        10,000-20,000           Sí   \n",
       "2  Educación universitaria  No sabe/No contesta           Sí   \n",
       "\n",
       "                               sustancias_consumidas consumo_estimado  \\\n",
       "0  LSD (ácido, tripi), Psilocibina (setas o trufa...               30   \n",
       "1  Psilocibina (setas o trufas mágicas), MDMA (éx...                5   \n",
       "2  LSD (ácido, tripi), Mescalina (peyote, San Ped...               20   \n",
       "\n",
       "          ultimo_consumo t_1-ultimo_cons               frec_anual  \\\n",
       "0    Hace menos de 1 mes   Más de 5 años   Una vez al mes o menos   \n",
       "1      Hace más de 1 año   Más de 5 años  Menos de una vez al año   \n",
       "2  Hace menos de 6 meses    Más de 1 año           Una vez al año   \n",
       "\n",
       "  frec_anual_efect.intenso ha_microdosificado  \\\n",
       "0      Varias veces al año                 No   \n",
       "1  Menos de una vez al año                 No   \n",
       "2           Una vez al año                 Sí   \n",
       "\n",
       "                                          sust_micro  \\\n",
       "0                                            Ninguna   \n",
       "1                                            Ninguna   \n",
       "2  LSD (ácido, tripi), Mescalina (peyote, San Ped...   \n",
       "\n",
       "                                 sust_combi  \\\n",
       "0                Cafeína, Cannabis, Alcohol   \n",
       "1                         Cannabis, Alcohol   \n",
       "2  Cafeína, Cannabis, Alcohol, Ansiolíticos   \n",
       "\n",
       "                             ultima_sust_combinadas  \\\n",
       "0                        Cafeína, Cannabis, Alcohol   \n",
       "1                                 Cannabis, Alcohol   \n",
       "2  Ninguna, No he consumido sustancias psicodélicas   \n",
       "\n",
       "                           efect_advers_bajo.efectos  \\\n",
       "0  Ansiedad, Mareo, Náuseas, Vómito, Dolor de est...   \n",
       "1                                           Ansiedad   \n",
       "2  Paranoia o psicosis, Ansiedad, Pánico, Taquica...   \n",
       "\n",
       "          efect_advers_despues           dieta_para_consumo con_quien_consume  \\\n",
       "0                      Ninguno                      Ninguna    Amigos, Pareja   \n",
       "1  Depresión, Ansiedad, Vómito                      Ninguna            Amigos   \n",
       "2                     Ansiedad  Abstinencia de otras drogas              Solo   \n",
       "\n",
       "                                          motivacion  \\\n",
       "0  Para divertirme, Para conocerme mejor, Con fin...   \n",
       "1     Para divertirme, Para escapar de mis problemas   \n",
       "2  Para divertirme, Para conocerme mejor, Con fin...   \n",
       "\n",
       "                                       donde_consume experien_significat  \\\n",
       "0  En casa, En la naturaleza, En la calle, En fie...      Extremadamente   \n",
       "1                          En casa, En la naturaleza             Un poco   \n",
       "2                          En casa, En la naturaleza      Extremadamente   \n",
       "\n",
       "  veces_exper_signific diagnost_alguna_vez diagnost_actual  \\\n",
       "0      Muy pocas veces                  No              No   \n",
       "1          Ninguna vez                  No              No   \n",
       "2        Algunas veces                  Sí              Sí   \n",
       "\n",
       "                                 trastornos_diagnost  \\\n",
       "0                                            Ninguno   \n",
       "1                                            Ninguno   \n",
       "2  Depresión, Trastorno de ansiedad generalizada,...   \n",
       "\n",
       "             momento_diagnost medicado_pasado medicado_presente  \\\n",
       "0  Nunca me han diagnosticado              No                No   \n",
       "1  Nunca me han diagnosticado              No                No   \n",
       "2                     Después              Sí                No   \n",
       "\n",
       "  consume_para_tratar intencion_consumo_tratar abierto_terap_psicodel  \\\n",
       "0                  No                       Sí                     Sí   \n",
       "1                  No                       No                Tal vez   \n",
       "2                  Sí                  Tal vez                Tal vez   \n",
       "\n",
       "  dieta_general            frec_deporte          frec_meditacion  bpns_AS1  \\\n",
       "0      Omnívora                     Más          Esporádicamente         5   \n",
       "1      Omnívora         Esporádicamente                    Nunca         3   \n",
       "2      Omnívora  Cinco veces por semana  Cuatro veces por semana         3   \n",
       "\n",
       "   bpns_AF1  bpns_RS1  bpns_RF1  bpns_CS1  bpns_CF1  bpns_AS2  bpns_AF2  \\\n",
       "0         3         5         1         4         2         4         2   \n",
       "1         2         3         4         4         4         2         4   \n",
       "2         3         4         3         4         4         4         4   \n",
       "\n",
       "   bpns_RS2  bpns_RF2  bpns_CS2  bpns_CF2  bpns_AS3  bpns_AF3  bpns_RS3  \\\n",
       "0         5         2         4         2         4         1         5   \n",
       "1         4         2         4         4         3         2         2   \n",
       "2         4         3         3         3         3         4         3   \n",
       "\n",
       "   bpns_RF3  bpns_CS3  bpns_CF3  bpns_AS4  bpns_AF4  bpns_RS4  bpns_RF4  \\\n",
       "0         1         4         2         5         2         5         2   \n",
       "1         1         2         3         4         4         5         3   \n",
       "2         4         3         5         1         3         2         4   \n",
       "\n",
       "   bpns_CS4  bpns_CF4  panas_EN1  panas_EN2  panas_EP1  panas_EN3  panas_EP2  \\\n",
       "0         4         2          2          2          3          3          4   \n",
       "1         4         2          2          1          4          5          2   \n",
       "2         3         4          4          2          4          4          2   \n",
       "\n",
       "   panas_EN4  panas_EP3  panas_EP4  panas_EN5  panas_EP5  phlms_C1  phlms_A1  \\\n",
       "0          1          4          4          1          5         3         2   \n",
       "1          4          3          4          4          3         4         4   \n",
       "2          4          2          2          3          2         4         4   \n",
       "\n",
       "   phlms_C2  phlms_A2  phlms_C3  phlms_A3  phlms_C4  phlms_A4  phlms_C5  \\\n",
       "0         3         1         1         2         1         4         3   \n",
       "1         4         4         2         3         2         4         4   \n",
       "2         3         3         4         4         3         5         3   \n",
       "\n",
       "   phlms_A5  phlms_C6  phlms_A6  phlms_C7  phlms_A7  phlms_C8  phlms_A8  \\\n",
       "0         2         4         2         3         4         2         2   \n",
       "1         4         3         4         4         4         2         3   \n",
       "2         4         2         4         2         2         3         3   \n",
       "\n",
       "   phlms_C9  phlms_A9  phlms_C10  phlms_A10  swls1  swls2  swls3  swls4  \\\n",
       "0         2         4          3          2      5      7      5      4   \n",
       "1         2         4          5          3      3      5      5      5   \n",
       "2         2         3          3          3      2      2      1      2   \n",
       "\n",
       "   swls5  ipipbf_ex1  ipipbf_a1  ipipbf_es1  ipipbf_n1  ipipbf_i1  ipipbf_ex2  \\\n",
       "0      7           3          2           2          4          2           2   \n",
       "1      3           1          2           4          4          2           5   \n",
       "2      1           1          3           4          2          2           4   \n",
       "\n",
       "   ipipbf_a2  ipipbf_es2  ipipbf_n2  ipipbf_i2  ipipbf_ex3  ipipbf_a3  \\\n",
       "0          5           2          1          3           3          2   \n",
       "1          3           4          1          3           1          2   \n",
       "2          4           4          3          5           1          3   \n",
       "\n",
       "   ipipbf_es3  ipipbf_n3  ipipbf_i3  ipipbf_ex4  ipipbf_a4  ipipbf_es4  \\\n",
       "0           2          3          5           4          4           4   \n",
       "1           3          1          2           1          2           2   \n",
       "2           4          4          2           1          5           2   \n",
       "\n",
       "   ipipbf_n4  ipipbf_i4  ipipbf_ex5  ipipbf_a5  ipipbf_es5  ipipbf_n5  \\\n",
       "0          2          3           3          4           4          1   \n",
       "1          2          4           2          4           4          1   \n",
       "2          4          4           3          3           2          4   \n",
       "\n",
       "   ipipbf_i5  ipipbf_ex6  ipipbf_a6  ipipbf_es6  ipipbf_n6  ipipbf_i6  \\\n",
       "0          4           4          2           5          2          4   \n",
       "1          4           1          3           4          1          4   \n",
       "2          4           2          3           2          4          3   \n",
       "\n",
       "   ipipbf_ex7  ipipbf_a7  ipipbf_es7  ipipbf_n7  ipipbf_i7  ipipbf_ex8  \\\n",
       "0           5          4           4          2          2           3   \n",
       "1           2          4           3          1          2           2   \n",
       "2           2          2           3          4          2           2   \n",
       "\n",
       "   ipipbf_a8  ipipbf_es8  ipipbf_n8  ipipbf_i8  ipipbf_ex9  ipipbf_a9  \\\n",
       "0          2           4          2          4           4          4   \n",
       "1          2           3          1          4           5          2   \n",
       "2          2           4          4          4           4          2   \n",
       "\n",
       "   ipipbf_es9  ipipbf_n9  ipipbf_i9  ipipbf_ex10  ipipbf_a10  ipipbf_es10  \\\n",
       "0           2          2          4            3           3            1   \n",
       "1           4          4          4            1           4            4   \n",
       "2           4          5          4            2           4            4   \n",
       "\n",
       "   ipipbf_n10  ipipbf_i10  sa_psico1  sa_paran1  sa_fob1  sa_psico2  \\\n",
       "0           1           3          1          1        1          1   \n",
       "1           4           2          1          2        1          1   \n",
       "2           4           5          1          4        3          1   \n",
       "\n",
       "   sa_paran2  sa_ans1  sa_host1  sa_fob2  sa_dep1  sa_dep2  sa_dep3  sa_ans2  \\\n",
       "0          1        2         1        1        2        3        2        2   \n",
       "1          4        2         1        1        3        4        4        4   \n",
       "2          3        3         2        1        4        5        4        4   \n",
       "\n",
       "   sa_psico3  sa_sensib1  sa_sensib2  sa_obs1  sa_sensib3  sa_somat1  \\\n",
       "0          1           1           2        2           2          1   \n",
       "1          2           4           4        2           4          3   \n",
       "2          2           3           4        3           4          2   \n",
       "\n",
       "   sa_paran3  sa_obs2  sa_obs3  sa_fob3  sa_somat2  sa_fob4  sa_obs4  \\\n",
       "0          1        1        2        1          1        1        1   \n",
       "1          2        3        4        1          1        4        3   \n",
       "2          1        2        2        2          1        4        3   \n",
       "\n",
       "   sa_somat3  sa_dep4  sa_obs5  sa_somat4  sa_ans3  sa_somat5  sa_sensib4  \\\n",
       "0          1        3        2          1        2          1           1   \n",
       "1          4        4        3          4        4          1           3   \n",
       "2          1        4        4          3        4          3           4   \n",
       "\n",
       "   sa_psico4  sa_host2  sa_host3  sa_sensib5  sa_fob5  sa_ans4  sa_host4  \\\n",
       "0          1         3         1           1        1        1         2   \n",
       "1          2         1         1           5        2        1         1   \n",
       "2          1         1         4           4        2        2         3   \n",
       "\n",
       "   sa_paran4  sa_ans5  sa_dep5  sa_host5  sa_paran5  sa_psico5  \n",
       "0          2        1        1         2          1          1  \n",
       "1          3        2        4         1          4          1  \n",
       "2          2        4        4         2          3          3  "
      ]
     },
     "execution_count": 5,
     "metadata": {},
     "output_type": "execute_result"
    }
   ],
   "source": [
    "df.head(3)"
   ]
  },
  {
   "cell_type": "code",
   "execution_count": 6,
   "metadata": {},
   "outputs": [],
   "source": [
    "#Elimino las columnas que no interesan\n",
    "columns_to_drop = df.columns[39: ]\n",
    "df.drop(columns=columns_to_drop, inplace=True)"
   ]
  },
  {
   "cell_type": "code",
   "execution_count": 7,
   "metadata": {},
   "outputs": [
    {
     "name": "stdout",
     "output_type": "stream",
     "text": [
      "<class 'pandas.core.frame.DataFrame'>\n",
      "RangeIndex: 1022 entries, 0 to 1021\n",
      "Data columns (total 39 columns):\n",
      " #   Column                     Non-Null Count  Dtype \n",
      "---  ------                     --------------  ----- \n",
      " 0   edad                       1022 non-null   int64 \n",
      " 1   sexo                       1022 non-null   object\n",
      " 2   estatus                    1022 non-null   object\n",
      " 3   residencia                 1022 non-null   object\n",
      " 4   entorno_res                1022 non-null   object\n",
      " 5   empleo                     1022 non-null   object\n",
      " 6   nivel_edu                  1022 non-null   object\n",
      " 7   ingresos                   1022 non-null   object\n",
      " 8   ha_consumido               1022 non-null   object\n",
      " 9   sustancias_consumidas      1022 non-null   object\n",
      " 10  consumo_estimado           1022 non-null   object\n",
      " 11  ultimo_consumo             1022 non-null   object\n",
      " 12  t_1-ultimo_cons            1022 non-null   object\n",
      " 13  frec_anual                 1022 non-null   object\n",
      " 14  frec_anual_efect.intenso   1022 non-null   object\n",
      " 15  ha_microdosificado         1022 non-null   object\n",
      " 16  sust_micro                 1022 non-null   object\n",
      " 17  sust_combi                 1022 non-null   object\n",
      " 18  ultima_sust_combinadas     1022 non-null   object\n",
      " 19  efect_advers_bajo.efectos  1022 non-null   object\n",
      " 20  efect_advers_despues       1022 non-null   object\n",
      " 21  dieta_para_consumo         1022 non-null   object\n",
      " 22  con_quien_consume          1022 non-null   object\n",
      " 23  motivacion                 1022 non-null   object\n",
      " 24  donde_consume              1022 non-null   object\n",
      " 25  experien_significat        1022 non-null   object\n",
      " 26  veces_exper_signific       1022 non-null   object\n",
      " 27  diagnost_alguna_vez        1022 non-null   object\n",
      " 28  diagnost_actual            1022 non-null   object\n",
      " 29  trastornos_diagnost        1022 non-null   object\n",
      " 30  momento_diagnost           1022 non-null   object\n",
      " 31  medicado_pasado            1022 non-null   object\n",
      " 32  medicado_presente          1022 non-null   object\n",
      " 33  consume_para_tratar        1022 non-null   object\n",
      " 34  intencion_consumo_tratar   1022 non-null   object\n",
      " 35  abierto_terap_psicodel     1022 non-null   object\n",
      " 36  dieta_general              1022 non-null   object\n",
      " 37  frec_deporte               1022 non-null   object\n",
      " 38  frec_meditacion            1022 non-null   object\n",
      "dtypes: int64(1), object(38)\n",
      "memory usage: 311.5+ KB\n"
     ]
    }
   ],
   "source": [
    "df.info()"
   ]
  },
  {
   "cell_type": "markdown",
   "metadata": {},
   "source": [
    "## Columna 'sustancias_consumidas_princ'\n",
    "La columna 'sustancias_consumidas' tiene <u>163 valores únicos</u>\\\n",
    "Creamos nueva columna 'sustancias_consumidas_princ' agrupando por unas pocas categorías"
   ]
  },
  {
   "cell_type": "code",
   "execution_count": 8,
   "metadata": {},
   "outputs": [
    {
     "data": {
      "text/plain": [
       "163"
      ]
     },
     "execution_count": 8,
     "metadata": {},
     "output_type": "execute_result"
    }
   ],
   "source": [
    "df['sustancias_consumidas'].nunique()"
   ]
  },
  {
   "cell_type": "code",
   "execution_count": 9,
   "metadata": {},
   "outputs": [
    {
     "data": {
      "text/plain": [
       "sustancias_consumidas_princ\n",
       "LSD            506\n",
       "Ninguna        273\n",
       "Psilocibina    147\n",
       "Mescalina       45\n",
       "MDMA            24\n",
       "DMT             16\n",
       "Marihuana        7\n",
       "Otras            4\n",
       "Name: count, dtype: int64"
      ]
     },
     "execution_count": 9,
     "metadata": {},
     "output_type": "execute_result"
    }
   ],
   "source": [
    "# Creamos una nueva columna con la sustancia principal consumida de cada encuestado, y lo dejamos en unas pocas categorías\n",
    "categorias_sustancias = df.sustancias_consumidas.to_list()\n",
    "\n",
    "# Obtener la primera palabra de cada string\n",
    "primeras_palabras = [frase.split(',')[0].split()[0] for frase in categorias_sustancias]\n",
    "df['sustancias_consumidas_princ'] = primeras_palabras\n",
    "\n",
    "#Asignamos valores sueltos a ciertas categorías\n",
    "thc = ['THC', 'porros', 'MARIHUANA', 'marihuana', 'Marihuana']\n",
    "hongos = ['Hongos', 'PSILOCIBINA','Cucumelos']\n",
    "ayahuasca = 'Ayahuasca'\n",
    "otras = ['varias', 'Escopolamina', 'Metilfenidato','Escopolamina', 'Cocaina', 'Varias']\n",
    "\n",
    "df['sustancias_consumidas_princ'] = df['sustancias_consumidas_princ'].replace(thc, 'Marihuana')\n",
    "df['sustancias_consumidas_princ'] = df['sustancias_consumidas_princ'].replace(hongos, 'Psilocibina')\n",
    "df['sustancias_consumidas_princ'] = df['sustancias_consumidas_princ'].replace(ayahuasca, 'DMT')\n",
    "df['sustancias_consumidas_princ'] = df['sustancias_consumidas_princ'].replace(otras, 'Otras')\n",
    "\n",
    "#Value counts\n",
    "df['sustancias_consumidas_princ'].value_counts()"
   ]
  },
  {
   "cell_type": "markdown",
   "metadata": {},
   "source": [
    "## Columna 'motivacion_princ'\n",
    "La columna 'motivacion' tiene <u>103 valores únicos</u>\\\n",
    "Creamos nueva columna 'motivacion_princ' agrupando por unas pocas categorías"
   ]
  },
  {
   "cell_type": "code",
   "execution_count": 10,
   "metadata": {},
   "outputs": [
    {
     "data": {
      "text/plain": [
       "103"
      ]
     },
     "execution_count": 10,
     "metadata": {},
     "output_type": "execute_result"
    }
   ],
   "source": [
    "df['motivacion'].nunique()"
   ]
  },
  {
   "cell_type": "code",
   "execution_count": 11,
   "metadata": {},
   "outputs": [
    {
     "data": {
      "text/plain": [
       "motivacion_princ\n",
       "Diversión           460\n",
       "No he consumido     272\n",
       "Autoconocimiento    204\n",
       "Terapéutico          40\n",
       "Otros                34\n",
       "Espiritual           12\n",
       "Name: count, dtype: int64"
      ]
     },
     "execution_count": 11,
     "metadata": {},
     "output_type": "execute_result"
    }
   ],
   "source": [
    "# Creamos una nueva columna con la motivación principal de cada encuestado, y lo dejamos en unas pocas categorías\n",
    "df['motivacion_princ'] = df['motivacion']\n",
    "\n",
    "df['motivacion_princ'] = df['motivacion_princ'].apply(lambda x: 'Diversión' if str(x).startswith('Para divertirme') else x)\n",
    "df['motivacion_princ'] = df['motivacion_princ'].apply(lambda x: 'Autoconocimiento' if str(x).startswith('Para conocerme') else x)\n",
    "df['motivacion_princ'] = df['motivacion_princ'].apply(lambda x: 'Terapéutico' if str(x).startswith('Con fines terapéuticos') else x)\n",
    "df['motivacion_princ'] = df['motivacion_princ'].apply(lambda x: 'Espiritual' if str(x).startswith('Con fines religiosos') else x)\n",
    "\n",
    "motivaciones_permitidas = ['Diversión', 'Autoconocimiento', 'Terapéutico', 'Espiritual', 'No he consumido']\n",
    "df['motivacion_princ'] = df['motivacion_princ'].where(df['motivacion_princ'].isin(motivaciones_permitidas), other='Otros')\n",
    "\n",
    "#Value counts\n",
    "df['motivacion_princ'].value_counts()"
   ]
  },
  {
   "cell_type": "markdown",
   "metadata": {},
   "source": [
    "## Columna 'donde_consume_princ'\n",
    "La columna 'donde_consume' tiene <u>65 valores únicos</u>\\\n",
    "Creamos nueva columna 'donde_consume_princ' agrupando por unas pocas categorías"
   ]
  },
  {
   "cell_type": "code",
   "execution_count": 12,
   "metadata": {},
   "outputs": [
    {
     "data": {
      "text/plain": [
       "65"
      ]
     },
     "execution_count": 12,
     "metadata": {},
     "output_type": "execute_result"
    }
   ],
   "source": [
    "df['donde_consume'].nunique()"
   ]
  },
  {
   "cell_type": "code",
   "execution_count": 13,
   "metadata": {},
   "outputs": [
    {
     "data": {
      "text/plain": [
       "donde_consume_princ\n",
       "Casa               526\n",
       "No he consumido    275\n",
       "Naturaleza         155\n",
       "Fiestas             38\n",
       "Otros               17\n",
       "Calle               11\n",
       "Name: count, dtype: int64"
      ]
     },
     "execution_count": 13,
     "metadata": {},
     "output_type": "execute_result"
    }
   ],
   "source": [
    "# Creamos una nueva columna con el lugar de consumo principal de cada encuestado, y lo dejamos en unas pocas categorías\n",
    "\n",
    "df['donde_consume_princ'] = df['donde_consume']\n",
    "df['donde_consume_princ'] = df['donde_consume_princ'].apply(lambda x: 'Casa' if str(x).startswith('En casa') else x)\n",
    "df['donde_consume_princ'] = df['donde_consume_princ'].apply(lambda x: 'Naturaleza' if str(x).startswith('En la naturaleza') else x)\n",
    "df['donde_consume_princ'] = df['donde_consume_princ'].apply(lambda x: 'Fiestas' if str(x).startswith('En fiestas') else x)\n",
    "df['donde_consume_princ'] = df['donde_consume_princ'].apply(lambda x: 'Calle' if str(x).startswith('En la calle') else x)\n",
    "\n",
    "donde_permitidos = ['Casa', 'Naturaleza', 'Fiestas', 'Calle', 'No he consumido']\n",
    "df['donde_consume_princ'] = df['donde_consume_princ'].where(df['donde_consume_princ'].isin(donde_permitidos), other='Otros')\n",
    "\n",
    "df.donde_consume_princ.value_counts()"
   ]
  },
  {
   "cell_type": "markdown",
   "metadata": {},
   "source": [
    "## Columna 'con_quien_consume_princ'\n",
    "La columna 'con_quien_consume' tiene <u>83 valores únicos</u>\\\n",
    "Creamos nueva columna 'con_quien_consume_princ' agrupando por unas pocas categorías"
   ]
  },
  {
   "cell_type": "code",
   "execution_count": 14,
   "metadata": {},
   "outputs": [
    {
     "data": {
      "text/plain": [
       "83"
      ]
     },
     "execution_count": 14,
     "metadata": {},
     "output_type": "execute_result"
    }
   ],
   "source": [
    "df['con_quien_consume'].nunique()"
   ]
  },
  {
   "cell_type": "code",
   "execution_count": 15,
   "metadata": {},
   "outputs": [
    {
     "data": {
      "text/plain": [
       "con_quien_consume_princ\n",
       "Amigos              471\n",
       "No he consumido     277\n",
       "Chamán              128\n",
       "Solo                 52\n",
       "Terapeuta            44\n",
       "Pareja o familia     40\n",
       "Otros                10\n",
       "Name: count, dtype: int64"
      ]
     },
     "execution_count": 15,
     "metadata": {},
     "output_type": "execute_result"
    }
   ],
   "source": [
    "# Creamos una nueva columna con la compañía principal de cada encuestado, y lo dejamos en unas pocas categorías\n",
    "df['con_quien_consume_princ'] = df['con_quien_consume']\n",
    "df['con_quien_consume_princ'] = df['con_quien_consume_princ'].apply(lambda x: 'Amigos' if str(x).startswith('Amigos') else x)\n",
    "df['con_quien_consume_princ'] = df['con_quien_consume_princ'].apply(lambda x: 'Chamán' if str(x).startswith('Chamán') else x)\n",
    "df['con_quien_consume_princ'] = df['con_quien_consume_princ'].apply(lambda x: 'Terapeuta' if str(x).startswith('Terapeuta') else x)\n",
    "df['con_quien_consume_princ'] = df['con_quien_consume_princ'].apply(lambda x: 'Pareja o familia' if str(x).startswith('Pareja') else x)\n",
    "df['con_quien_consume_princ'] = df['con_quien_consume_princ'].apply(lambda x: 'Pareja o familia' if str(x).startswith('Familiares') else x)\n",
    "df['con_quien_consume_princ'] = df['con_quien_consume_princ'].apply(lambda x: 'No he consumido' if str(x).startswith('No he consumido') else x)\n",
    "\n",
    "con_quien_permitidos = ['Amigos', 'Chamán', 'Terapeuta','Pareja o familia', 'Solo', 'No he consumido']\n",
    "df['con_quien_consume_princ'] = df['con_quien_consume_princ'].where(df['con_quien_consume_princ'].isin(con_quien_permitidos), other='Otros')\n",
    "\n",
    "\n",
    "df.con_quien_consume_princ.value_counts()"
   ]
  },
  {
   "cell_type": "markdown",
   "metadata": {},
   "source": [
    "## Otras operaciones"
   ]
  },
  {
   "cell_type": "markdown",
   "metadata": {},
   "source": [
    "#### Elimino todas las filas que indican que no han consumido sustancias psicodélicas"
   ]
  },
  {
   "cell_type": "code",
   "execution_count": 16,
   "metadata": {},
   "outputs": [],
   "source": [
    "#Guardo el dataset y elimino columnas que no interesan para esta parte del estudio\n",
    "\n",
    "df = df[df['ha_consumido'] == 'Sí']\n",
    "df = df[df['sustancias_consumidas_princ'] != 'Ninguna']\n",
    "df = df[df['motivacion_princ'] != 'No he consumido']\n",
    "df = df[df['donde_consume_princ'] != 'No he consumido']\n",
    "df = df[df['con_quien_consume_princ'] != 'No he consumido']"
   ]
  },
  {
   "cell_type": "markdown",
   "metadata": {},
   "source": [
    "#### Guardo el dataset para su uso posterior"
   ]
  },
  {
   "cell_type": "code",
   "execution_count": 17,
   "metadata": {},
   "outputs": [],
   "source": [
    "df.to_csv('data/1000sujetos_editado.csv', index=False)"
   ]
  },
  {
   "cell_type": "markdown",
   "metadata": {},
   "source": [
    "#### Elimino todas las columnas que no aplican a esta parte del EDA"
   ]
  },
  {
   "cell_type": "code",
   "execution_count": 18,
   "metadata": {},
   "outputs": [],
   "source": [
    "columns_to_drop = df.columns[ :39]\n",
    "df.drop(columns=columns_to_drop, inplace=True)"
   ]
  },
  {
   "cell_type": "code",
   "execution_count": 19,
   "metadata": {},
   "outputs": [
    {
     "name": "stdout",
     "output_type": "stream",
     "text": [
      "<class 'pandas.core.frame.DataFrame'>\n",
      "Index: 742 entries, 0 to 1021\n",
      "Data columns (total 4 columns):\n",
      " #   Column                       Non-Null Count  Dtype \n",
      "---  ------                       --------------  ----- \n",
      " 0   sustancias_consumidas_princ  742 non-null    object\n",
      " 1   motivacion_princ             742 non-null    object\n",
      " 2   donde_consume_princ          742 non-null    object\n",
      " 3   con_quien_consume_princ      742 non-null    object\n",
      "dtypes: object(4)\n",
      "memory usage: 29.0+ KB\n"
     ]
    }
   ],
   "source": [
    "df.info()"
   ]
  },
  {
   "cell_type": "markdown",
   "metadata": {},
   "source": [
    "## Parte 2/3: Analizamos variables"
   ]
  },
  {
   "cell_type": "markdown",
   "metadata": {},
   "source": [
    "### Ficha de dataset\n",
    "\n",
    "**Dataset**: Encuesta de consumo de sustancias psicotrópicas\\\n",
    "**Muestra**: 1021 personas\\\n",
    "**Periodo**: Enero-abril 2024\n",
    "\n",
    "|Columna/Variable|Descripción|Tipo_de_Variable|Importancia inicial|Nota|\n",
    "|-|-|-|-|-|\n",
    "| sustancias_consumidas_princ | Sustancia consumida indicada en primer lugar en la encuesta | Categórica | Alta | 7 categorías |\n",
    "| motivacion_princ | Motivación de consumo indicado en primer lugar en la encuesta | Categórica | Alta | 5 categorías |\n",
    "| donde_consume_princ | Lugar de consumo indicado en primer lugar en la encuesta | Categórica | Alta | 5 categorías |\n",
    "| con_quien_consume_princ | Compañía de consumo indicado en primer lugar en la encuesta | Categórica | Alta | 6 categorías |"
   ]
  },
  {
   "cell_type": "markdown",
   "metadata": {},
   "source": [
    "### Sustancias consumidas"
   ]
  },
  {
   "cell_type": "code",
   "execution_count": 20,
   "metadata": {},
   "outputs": [
    {
     "name": "stdout",
     "output_type": "stream",
     "text": [
      "Pintamos diagrama de esferas:\n"
     ]
    },
    {
     "data": {
      "image/png": "[encoded data removed]",
      "text/plain": [
       "<Figure size 1400x400 with 1 Axes>"
      ]
     },
     "metadata": {},
     "output_type": "display_data"
    }
   ],
   "source": [
    "### Creamos figura y axes\n",
    "fig, axs = plt.subplots(1, 1, figsize=(14,4))\n",
    "fig.suptitle('Sustancias consumidas');\n",
    "\n",
    "### Frecuencias absolutas y relativas\n",
    "axs.cla()\n",
    "frecuencias = df[\"sustancias_consumidas_princ\"].value_counts()\n",
    "df_frecuencias = df[\"sustancias_consumidas_princ\"].value_counts().reset_index()\n",
    "df_frecuencias.columns = [\"categorias\", \"frecuencias\"]\n",
    "sns.scatterplot(x = \"categorias\", y = [1]*len(frecuencias), hue = \"categorias\", data = df_frecuencias, size = \"frecuencias\", legend = False, ax = axs, sizes = (500,5000))\n",
    "axs.set_xlabel(\"\")\n",
    "for estado,valor in frecuencias.items():\n",
    "    axs.text(estado,1.02,f\"{valor} ({round(valor*100/frecuencias.sum(),1)}%)\")\n",
    "axs.set_facecolor(\"none\")\n",
    "axs.yaxis.set_ticks([])\n",
    "axs.margins(0.08,0)\n",
    "\n",
    "print(\"Pintamos diagrama de esferas:\")"
   ]
  },
  {
   "cell_type": "markdown",
   "metadata": {},
   "source": [
    "## Motivación de consumo"
   ]
  },
  {
   "cell_type": "code",
   "execution_count": 21,
   "metadata": {},
   "outputs": [
    {
     "name": "stdout",
     "output_type": "stream",
     "text": [
      "Pintamos diagrama de barras:\n"
     ]
    },
    {
     "data": {
      "image/png": "[encoded data removed]",
      "text/plain": [
       "<Figure size 1000x400 with 1 Axes>"
      ]
     },
     "metadata": {},
     "output_type": "display_data"
    }
   ],
   "source": [
    "fig,axs = plt.subplots(figsize=(10,4))\n",
    "fig.suptitle(\"Motivación de consumo\")\n",
    "\n",
    "sns.countplot(x= 'motivacion_princ', data = df, ax = axs, hue = 'motivacion_princ', legend=False, saturation=0.5, stat='percent',\\\n",
    "              order=['Diversión', 'Autoconocimiento', 'Terapéutico', 'Otros', 'Espiritual'],\\\n",
    "              hue_order=['Diversión', 'Autoconocimiento', 'Terapéutico', 'Otros', 'Espiritual'])\n",
    "axs.set_xlabel(\" \")\n",
    "axs.set_ylabel(\"%\")\n",
    "\n",
    "print(\"Pintamos diagrama de barras:\")"
   ]
  },
  {
   "cell_type": "markdown",
   "metadata": {},
   "source": [
    "## Lugares de consumo"
   ]
  },
  {
   "cell_type": "code",
   "execution_count": 22,
   "metadata": {},
   "outputs": [
    {
     "name": "stdout",
     "output_type": "stream",
     "text": [
      "Pintamos diagrama de barras:\n"
     ]
    },
    {
     "data": {
      "image/png": "[encoded data removed]",
      "text/plain": [
       "<Figure size 1000x400 with 1 Axes>"
      ]
     },
     "metadata": {},
     "output_type": "display_data"
    }
   ],
   "source": [
    "fig,axs = plt.subplots(figsize=(10,4))\n",
    "fig.suptitle(\"Dónde consume\")\n",
    "\n",
    "sns.countplot(x= 'donde_consume_princ', data = df, ax = axs, hue = 'donde_consume_princ', legend=False, saturation=0.5, stat='percent',\\\n",
    "               order=['Casa', 'Naturaleza', 'Fiestas', 'Otros', 'Calle'],\\\n",
    "                hue_order=['Casa', 'Naturaleza', 'Fiestas', 'Otros', 'Calle'])\n",
    "axs.set_xlabel(\" \")\n",
    "axs.set_ylabel(\"%\")\n",
    "\n",
    "print(\"Pintamos diagrama de barras:\")"
   ]
  },
  {
   "cell_type": "markdown",
   "metadata": {},
   "source": [
    "## Acompañantes de consumo"
   ]
  },
  {
   "cell_type": "code",
   "execution_count": 23,
   "metadata": {},
   "outputs": [
    {
     "name": "stdout",
     "output_type": "stream",
     "text": [
      "Pintamos diagrama de barras:\n"
     ]
    },
    {
     "data": {
      "image/png": "[encoded data removed]",
      "text/plain": [
       "<Figure size 1000x400 with 1 Axes>"
      ]
     },
     "metadata": {},
     "output_type": "display_data"
    }
   ],
   "source": [
    "fig,axs = plt.subplots(figsize=(10,4))\n",
    "fig.suptitle(\"Con quién consume\")\n",
    "\n",
    "sns.countplot(x= 'con_quien_consume_princ', data = df, ax = axs, hue = 'con_quien_consume_princ', legend=False, saturation=0.5, stat='percent',\\\n",
    "               order=['Amigos', 'Chamán', 'Solo', 'Terapeuta', 'Pareja o familia', 'Otros'],\\\n",
    "                hue_order=['Amigos', 'Chamán', 'Solo', 'Terapeuta', 'Pareja o familia', 'Otros'])\n",
    "axs.set_xlabel(\" \")\n",
    "axs.set_ylabel(\"%\")\n",
    "print(\"Pintamos diagrama de barras:\")"
   ]
  },
  {
   "cell_type": "markdown",
   "metadata": {},
   "source": [
    "## Parte 3/3: Contrastamos hipótesis"
   ]
  },
  {
   "cell_type": "markdown",
   "metadata": {},
   "source": [
    "### Motivación vs Sustancia consumida\n",
    "**Sí hay correlación**"
   ]
  },
  {
   "cell_type": "code",
   "execution_count": 24,
   "metadata": {},
   "outputs": [
    {
     "data": {
      "image/png": "[encoded data removed]",
      "text/plain": [
       "<Figure size 1000x600 with 1 Axes>"
      ]
     },
     "metadata": {},
     "output_type": "display_data"
    }
   ],
   "source": [
    "plot_categorical_relationship_fin (df, 'motivacion_princ', 'sustancias_consumidas_princ', relative_freq=True, size_group = 6)"
   ]
  },
  {
   "cell_type": "code",
   "execution_count": 25,
   "metadata": {},
   "outputs": [
    {
     "name": "stdout",
     "output_type": "stream",
     "text": [
      "Valor Chi-Cuadrado: 120.13121477256871\n",
      "P-Value: 9.194477273695029e-15\n"
     ]
    }
   ],
   "source": [
    "#Aplicamos test Chi Cuadrado\n",
    "tabla_contingencia_motiv = pd.crosstab(df['motivacion_princ'], df['sustancias_consumidas_princ'])\n",
    "chi2, p, dof, expected = chi2_contingency(tabla_contingencia_motiv)\n",
    "\n",
    "print(\"Valor Chi-Cuadrado:\", chi2)\n",
    "print(\"P-Value:\", p)"
   ]
  },
  {
   "cell_type": "markdown",
   "metadata": {},
   "source": [
    "### Lugar de consumo vs Sustancia consumida"
   ]
  },
  {
   "cell_type": "code",
   "execution_count": 26,
   "metadata": {},
   "outputs": [
    {
     "data": {
      "image/png": "[encoded data removed]",
      "text/plain": [
       "<Figure size 1000x600 with 1 Axes>"
      ]
     },
     "metadata": {},
     "output_type": "display_data"
    }
   ],
   "source": [
    "plot_categorical_relationship_fin (df,'donde_consume_princ', 'sustancias_consumidas_princ', relative_freq=True, size_group = 6)"
   ]
  },
  {
   "cell_type": "code",
   "execution_count": 27,
   "metadata": {},
   "outputs": [
    {
     "name": "stdout",
     "output_type": "stream",
     "text": [
      "Valor Chi-Cuadrado: 377.6325857912499\n",
      "P-Value: 2.8795388390558562e-65\n"
     ]
    }
   ],
   "source": [
    "#Aplicamos test Chi Cuadrado\n",
    "tabla_contingencia_donde = pd.crosstab(df['donde_consume_princ'], df['sustancias_consumidas_princ'])\n",
    "chi2, p, dof, expected = chi2_contingency(tabla_contingencia_donde)\n",
    "\n",
    "print(\"Valor Chi-Cuadrado:\", chi2)\n",
    "print(\"P-Value:\", p)"
   ]
  },
  {
   "cell_type": "markdown",
   "metadata": {},
   "source": [
    "### Compañía de consumo vs Sustancia consumida"
   ]
  },
  {
   "cell_type": "code",
   "execution_count": 28,
   "metadata": {},
   "outputs": [
    {
     "data": {
      "image/png": "[encoded data removed]",
      "text/plain": [
       "<Figure size 1000x600 with 1 Axes>"
      ]
     },
     "metadata": {},
     "output_type": "display_data"
    }
   ],
   "source": [
    "plot_categorical_relationship_fin (df, 'con_quien_consume_princ', 'sustancias_consumidas_princ', relative_freq=True, size_group = 7)"
   ]
  },
  {
   "cell_type": "code",
   "execution_count": 29,
   "metadata": {},
   "outputs": [
    {
     "name": "stdout",
     "output_type": "stream",
     "text": [
      "Valor Chi-Cuadrado: 83.25894039762817\n",
      "P-Value: 6.646759864380976e-07\n"
     ]
    }
   ],
   "source": [
    "#Aplicamos test Chi Cuadrado\n",
    "\n",
    "tabla_contingencia_conquien = pd.crosstab(df['con_quien_consume_princ'], df['sustancias_consumidas_princ'])\n",
    "chi2, p, dof, expected = chi2_contingency(tabla_contingencia_conquien)\n",
    "\n",
    "print(\"Valor Chi-Cuadrado:\", chi2)\n",
    "print(\"P-Value:\", p)"
   ]
  }
 ],
 "metadata": {
  "kernelspec": {
   "display_name": "Python 3 (ipykernel)",
   "language": "python",
   "name": "python3"
  },
  "language_info": {
   "codemirror_mode": {
    "name": "ipython",
    "version": 3
   },
   "file_extension": ".py",
   "mimetype": "text/x-python",
   "name": "python",
   "nbconvert_exporter": "python",
   "pygments_lexer": "ipython3",
   "version": "3.11.7"
  }
 },
 "nbformat": 4,
 "nbformat_minor": 4
}
